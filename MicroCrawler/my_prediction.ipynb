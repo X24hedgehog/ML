{
 "cells": [
  {
   "cell_type": "code",
   "execution_count": 1,
   "id": "905d21f6",
   "metadata": {},
   "outputs": [
    {
     "name": "stdout",
     "output_type": "stream",
     "text": [
      "Requirement already satisfied: microprediction in c:\\users\\this pc\\anaconda3\\lib\\site-packages (1.1.5)\n",
      "Requirement already satisfied: microconventions>=1.0.0 in c:\\users\\this pc\\anaconda3\\lib\\site-packages (from microprediction) (1.0.0)\n",
      "Requirement already satisfied: tdigest in c:\\users\\this pc\\anaconda3\\lib\\site-packages (from microprediction) (0.5.2.2)\n",
      "Requirement already satisfied: contexttimer in c:\\users\\this pc\\anaconda3\\lib\\site-packages (from microprediction) (0.3.3)\n",
      "Requirement already satisfied: pycoingecko in c:\\users\\this pc\\anaconda3\\lib\\site-packages (from microprediction) (3.0.0)\n",
      "Requirement already satisfied: pandas in c:\\users\\this pc\\anaconda3\\lib\\site-packages (from microprediction) (1.4.2)\n",
      "Requirement already satisfied: scikit-learn in c:\\users\\this pc\\anaconda3\\lib\\site-packages (from microprediction) (1.0.2)\n",
      "Requirement already satisfied: copulas in c:\\users\\this pc\\anaconda3\\lib\\site-packages (from microprediction) (0.7.0)\n",
      "Requirement already satisfied: hyperopt in c:\\users\\this pc\\anaconda3\\lib\\site-packages (from microprediction) (0.2.7)\n",
      "Requirement already satisfied: pytz>=2021.3 in c:\\users\\this pc\\anaconda3\\lib\\site-packages (from microprediction) (2021.3)\n",
      "Requirement already satisfied: requests in c:\\users\\this pc\\anaconda3\\lib\\site-packages (from microprediction) (2.27.1)\n",
      "Requirement already satisfied: getjson>=2.0.0 in c:\\users\\this pc\\anaconda3\\lib\\site-packages (from microprediction) (2.0.0)\n",
      "Requirement already satisfied: numpy>=1.20.1 in c:\\users\\this pc\\anaconda3\\lib\\site-packages (from microprediction) (1.22.4)\n",
      "Requirement already satisfied: statsmodels in c:\\users\\this pc\\anaconda3\\lib\\site-packages (from microprediction) (0.13.2)\n",
      "Requirement already satisfied: genson in c:\\users\\this pc\\anaconda3\\lib\\site-packages (from microprediction) (1.2.2)\n",
      "Requirement already satisfied: backoff in c:\\users\\this pc\\anaconda3\\lib\\site-packages (from getjson>=2.0.0->microprediction) (2.1.2)\n",
      "Requirement already satisfied: schema in c:\\users\\this pc\\anaconda3\\lib\\site-packages (from microconventions>=1.0.0->microprediction) (0.7.5)\n",
      "Requirement already satisfied: deepdiff in c:\\users\\this pc\\anaconda3\\lib\\site-packages (from microconventions>=1.0.0->microprediction) (5.8.1)\n",
      "Requirement already satisfied: muid>=0.5.3 in c:\\users\\this pc\\anaconda3\\lib\\site-packages (from microconventions>=1.0.0->microprediction) (0.5.3)\n",
      "Requirement already satisfied: pymorton in c:\\users\\this pc\\anaconda3\\lib\\site-packages (from microconventions>=1.0.0->microprediction) (1.0.5)\n",
      "Requirement already satisfied: scipy in c:\\users\\this pc\\anaconda3\\lib\\site-packages (from microconventions>=1.0.0->microprediction) (1.7.3)\n",
      "Requirement already satisfied: matplotlib<4,>=3.4.0 in c:\\users\\this pc\\anaconda3\\lib\\site-packages (from copulas->microprediction) (3.5.1)\n",
      "Requirement already satisfied: kiwisolver>=1.0.1 in c:\\users\\this pc\\anaconda3\\lib\\site-packages (from matplotlib<4,>=3.4.0->copulas->microprediction) (1.3.2)\n",
      "Requirement already satisfied: fonttools>=4.22.0 in c:\\users\\this pc\\anaconda3\\lib\\site-packages (from matplotlib<4,>=3.4.0->copulas->microprediction) (4.25.0)\n",
      "Requirement already satisfied: packaging>=20.0 in c:\\users\\this pc\\anaconda3\\lib\\site-packages (from matplotlib<4,>=3.4.0->copulas->microprediction) (21.3)\n",
      "Requirement already satisfied: cycler>=0.10 in c:\\users\\this pc\\anaconda3\\lib\\site-packages (from matplotlib<4,>=3.4.0->copulas->microprediction) (0.11.0)\n",
      "Requirement already satisfied: python-dateutil>=2.7 in c:\\users\\this pc\\anaconda3\\lib\\site-packages (from matplotlib<4,>=3.4.0->copulas->microprediction) (2.8.2)\n",
      "Requirement already satisfied: pillow>=6.2.0 in c:\\users\\this pc\\anaconda3\\lib\\site-packages (from matplotlib<4,>=3.4.0->copulas->microprediction) (9.0.1)\n",
      "Requirement already satisfied: pyparsing>=2.2.1 in c:\\users\\this pc\\anaconda3\\lib\\site-packages (from matplotlib<4,>=3.4.0->copulas->microprediction) (3.0.4)\n",
      "Requirement already satisfied: six>=1.5 in c:\\users\\this pc\\anaconda3\\lib\\site-packages (from python-dateutil>=2.7->matplotlib<4,>=3.4.0->copulas->microprediction) (1.16.0)\n",
      "Requirement already satisfied: ordered-set<4.2.0,>=4.1.0 in c:\\users\\this pc\\anaconda3\\lib\\site-packages (from deepdiff->microconventions>=1.0.0->microprediction) (4.1.0)\n",
      "Requirement already satisfied: networkx>=2.2 in c:\\users\\this pc\\anaconda3\\lib\\site-packages (from hyperopt->microprediction) (2.7.1)\n",
      "Requirement already satisfied: cloudpickle in c:\\users\\this pc\\anaconda3\\lib\\site-packages (from hyperopt->microprediction) (2.0.0)\n",
      "Requirement already satisfied: py4j in c:\\users\\this pc\\anaconda3\\lib\\site-packages (from hyperopt->microprediction) (0.10.9.7)\n",
      "Requirement already satisfied: tqdm in c:\\users\\this pc\\anaconda3\\lib\\site-packages (from hyperopt->microprediction) (4.64.0)\n",
      "Requirement already satisfied: future in c:\\users\\this pc\\anaconda3\\lib\\site-packages (from hyperopt->microprediction) (0.18.2)\n",
      "Requirement already satisfied: urllib3<1.27,>=1.21.1 in c:\\users\\this pc\\anaconda3\\lib\\site-packages (from requests->microprediction) (1.26.9)\n",
      "Requirement already satisfied: idna<4,>=2.5 in c:\\users\\this pc\\anaconda3\\lib\\site-packages (from requests->microprediction) (3.3)\n",
      "Requirement already satisfied: charset-normalizer~=2.0.0 in c:\\users\\this pc\\anaconda3\\lib\\site-packages (from requests->microprediction) (2.0.4)\n",
      "Requirement already satisfied: certifi>=2017.4.17 in c:\\users\\this pc\\anaconda3\\lib\\site-packages (from requests->microprediction) (2021.10.8)\n",
      "Requirement already satisfied: contextlib2>=0.5.5 in c:\\users\\this pc\\anaconda3\\lib\\site-packages (from schema->microconventions>=1.0.0->microprediction) (21.6.0)\n",
      "Requirement already satisfied: threadpoolctl>=2.0.0 in c:\\users\\this pc\\anaconda3\\lib\\site-packages (from scikit-learn->microprediction) (2.2.0)\n",
      "Requirement already satisfied: joblib>=0.11 in c:\\users\\this pc\\anaconda3\\lib\\site-packages (from scikit-learn->microprediction) (1.1.0)\n",
      "Requirement already satisfied: patsy>=0.5.2 in c:\\users\\this pc\\anaconda3\\lib\\site-packages (from statsmodels->microprediction) (0.5.2)\n",
      "Requirement already satisfied: accumulation-tree in c:\\users\\this pc\\anaconda3\\lib\\site-packages (from tdigest->microprediction) (0.6.2)\n",
      "Requirement already satisfied: pyudorandom in c:\\users\\this pc\\anaconda3\\lib\\site-packages (from tdigest->microprediction) (1.0.0)\n",
      "Requirement already satisfied: colorama in c:\\users\\this pc\\anaconda3\\lib\\site-packages (from tqdm->hyperopt->microprediction) (0.4.4)\n"
     ]
    }
   ],
   "source": [
    "!pip install microprediction"
   ]
  },
  {
   "cell_type": "code",
   "execution_count": null,
   "id": "606fa1f7",
   "metadata": {},
   "outputs": [],
   "source": [
    "from microprediction import MicroCrawler\n",
    "\n",
    "if __name__ == \"__main__\":\n",
    "    mw = MicroCrawler(write_key = 'b37559781261a96aeab54a49ca3cfdbb')\n",
    "    mw.run()"
   ]
  },
  {
   "cell_type": "code",
   "execution_count": null,
   "id": "4a677eb6",
   "metadata": {},
   "outputs": [],
   "source": []
  }
 ],
 "metadata": {
  "kernelspec": {
   "display_name": "Python 3 (ipykernel)",
   "language": "python",
   "name": "python3"
  },
  "language_info": {
   "codemirror_mode": {
    "name": "ipython",
    "version": 3
   },
   "file_extension": ".py",
   "mimetype": "text/x-python",
   "name": "python",
   "nbconvert_exporter": "python",
   "pygments_lexer": "ipython3",
   "version": "3.9.12"
  }
 },
 "nbformat": 4,
 "nbformat_minor": 5
}
