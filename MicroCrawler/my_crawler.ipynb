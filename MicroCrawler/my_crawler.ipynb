{
 "cells": [
  {
   "cell_type": "code",
   "execution_count": 4,
   "id": "5620b786",
   "metadata": {},
   "outputs": [
    {
     "name": "stdout",
     "output_type": "stream",
     "text": [
      "Requirement already satisfied: river in c:\\users\\this pc\\appdata\\roaming\\python\\python39\\site-packages (0.13.0)\n",
      "Requirement already satisfied: pandas>=1.3 in c:\\users\\this pc\\anaconda3\\lib\\site-packages (from river) (1.4.2)\n",
      "Requirement already satisfied: scipy>=1.5 in c:\\users\\this pc\\anaconda3\\lib\\site-packages (from river) (1.7.3)\n",
      "Requirement already satisfied: numpy>=1.22 in c:\\users\\this pc\\anaconda3\\lib\\site-packages (from river) (1.22.4)\n",
      "Requirement already satisfied: python-dateutil>=2.8.1 in c:\\users\\this pc\\anaconda3\\lib\\site-packages (from pandas>=1.3->river) (2.8.2)\n",
      "Requirement already satisfied: pytz>=2020.1 in c:\\users\\this pc\\anaconda3\\lib\\site-packages (from pandas>=1.3->river) (2021.3)\n",
      "Requirement already satisfied: six>=1.5 in c:\\users\\this pc\\anaconda3\\lib\\site-packages (from python-dateutil>=2.8.1->pandas>=1.3->river) (1.16.0)\n",
      "Requirement already satisfied: microprediction in c:\\users\\this pc\\anaconda3\\lib\\site-packages (1.1.5)\n",
      "Requirement already satisfied: getjson>=2.0.0 in c:\\users\\this pc\\anaconda3\\lib\\site-packages (from microprediction) (2.0.0)\n",
      "Requirement already satisfied: requests in c:\\users\\this pc\\anaconda3\\lib\\site-packages (from microprediction) (2.27.1)\n",
      "Requirement already satisfied: statsmodels in c:\\users\\this pc\\anaconda3\\lib\\site-packages (from microprediction) (0.13.2)\n",
      "Requirement already satisfied: scikit-learn in c:\\users\\this pc\\anaconda3\\lib\\site-packages (from microprediction) (1.0.2)\n",
      "Requirement already satisfied: numpy>=1.20.1 in c:\\users\\this pc\\anaconda3\\lib\\site-packages (from microprediction) (1.22.4)\n",
      "Requirement already satisfied: contexttimer in c:\\users\\this pc\\anaconda3\\lib\\site-packages (from microprediction) (0.3.3)\n",
      "Requirement already satisfied: genson in c:\\users\\this pc\\anaconda3\\lib\\site-packages (from microprediction) (1.2.2)\n",
      "Requirement already satisfied: pycoingecko in c:\\users\\this pc\\anaconda3\\lib\\site-packages (from microprediction) (3.0.0)\n",
      "Requirement already satisfied: pandas in c:\\users\\this pc\\anaconda3\\lib\\site-packages (from microprediction) (1.4.2)\n",
      "Requirement already satisfied: microconventions>=1.0.0 in c:\\users\\this pc\\anaconda3\\lib\\site-packages (from microprediction) (1.0.0)\n",
      "Requirement already satisfied: copulas in c:\\users\\this pc\\anaconda3\\lib\\site-packages (from microprediction) (0.7.0)\n",
      "Requirement already satisfied: tdigest in c:\\users\\this pc\\anaconda3\\lib\\site-packages (from microprediction) (0.5.2.2)\n",
      "Requirement already satisfied: pytz>=2021.3 in c:\\users\\this pc\\anaconda3\\lib\\site-packages (from microprediction) (2021.3)\n",
      "Requirement already satisfied: hyperopt in c:\\users\\this pc\\anaconda3\\lib\\site-packages (from microprediction) (0.2.7)\n",
      "Requirement already satisfied: backoff in c:\\users\\this pc\\anaconda3\\lib\\site-packages (from getjson>=2.0.0->microprediction) (2.1.2)\n",
      "Requirement already satisfied: scipy in c:\\users\\this pc\\anaconda3\\lib\\site-packages (from microconventions>=1.0.0->microprediction) (1.7.3)\n",
      "Requirement already satisfied: schema in c:\\users\\this pc\\anaconda3\\lib\\site-packages (from microconventions>=1.0.0->microprediction) (0.7.5)\n",
      "Requirement already satisfied: deepdiff in c:\\users\\this pc\\anaconda3\\lib\\site-packages (from microconventions>=1.0.0->microprediction) (5.8.1)\n",
      "Requirement already satisfied: pymorton in c:\\users\\this pc\\anaconda3\\lib\\site-packages (from microconventions>=1.0.0->microprediction) (1.0.5)\n",
      "Requirement already satisfied: muid>=0.5.3 in c:\\users\\this pc\\anaconda3\\lib\\site-packages (from microconventions>=1.0.0->microprediction) (0.5.3)\n",
      "Requirement already satisfied: matplotlib<4,>=3.4.0 in c:\\users\\this pc\\anaconda3\\lib\\site-packages (from copulas->microprediction) (3.5.1)\n",
      "Requirement already satisfied: kiwisolver>=1.0.1 in c:\\users\\this pc\\anaconda3\\lib\\site-packages (from matplotlib<4,>=3.4.0->copulas->microprediction) (1.3.2)\n",
      "Requirement already satisfied: python-dateutil>=2.7 in c:\\users\\this pc\\anaconda3\\lib\\site-packages (from matplotlib<4,>=3.4.0->copulas->microprediction) (2.8.2)\n",
      "Requirement already satisfied: pillow>=6.2.0 in c:\\users\\this pc\\anaconda3\\lib\\site-packages (from matplotlib<4,>=3.4.0->copulas->microprediction) (9.0.1)\n",
      "Requirement already satisfied: pyparsing>=2.2.1 in c:\\users\\this pc\\anaconda3\\lib\\site-packages (from matplotlib<4,>=3.4.0->copulas->microprediction) (3.0.4)\n",
      "Requirement already satisfied: fonttools>=4.22.0 in c:\\users\\this pc\\anaconda3\\lib\\site-packages (from matplotlib<4,>=3.4.0->copulas->microprediction) (4.25.0)\n",
      "Requirement already satisfied: packaging>=20.0 in c:\\users\\this pc\\anaconda3\\lib\\site-packages (from matplotlib<4,>=3.4.0->copulas->microprediction) (21.3)\n",
      "Requirement already satisfied: cycler>=0.10 in c:\\users\\this pc\\anaconda3\\lib\\site-packages (from matplotlib<4,>=3.4.0->copulas->microprediction) (0.11.0)\n",
      "Requirement already satisfied: six>=1.5 in c:\\users\\this pc\\anaconda3\\lib\\site-packages (from python-dateutil>=2.7->matplotlib<4,>=3.4.0->copulas->microprediction) (1.16.0)\n",
      "Requirement already satisfied: ordered-set<4.2.0,>=4.1.0 in c:\\users\\this pc\\anaconda3\\lib\\site-packages (from deepdiff->microconventions>=1.0.0->microprediction) (4.1.0)\n",
      "Requirement already satisfied: tqdm in c:\\users\\this pc\\anaconda3\\lib\\site-packages (from hyperopt->microprediction) (4.64.0)\n",
      "Requirement already satisfied: py4j in c:\\users\\this pc\\anaconda3\\lib\\site-packages (from hyperopt->microprediction) (0.10.9.7)\n",
      "Requirement already satisfied: cloudpickle in c:\\users\\this pc\\anaconda3\\lib\\site-packages (from hyperopt->microprediction) (2.0.0)\n",
      "Requirement already satisfied: future in c:\\users\\this pc\\anaconda3\\lib\\site-packages (from hyperopt->microprediction) (0.18.2)\n",
      "Requirement already satisfied: networkx>=2.2 in c:\\users\\this pc\\anaconda3\\lib\\site-packages (from hyperopt->microprediction) (2.7.1)\n",
      "Requirement already satisfied: idna<4,>=2.5 in c:\\users\\this pc\\anaconda3\\lib\\site-packages (from requests->microprediction) (3.3)\n",
      "Requirement already satisfied: certifi>=2017.4.17 in c:\\users\\this pc\\anaconda3\\lib\\site-packages (from requests->microprediction) (2021.10.8)\n",
      "Requirement already satisfied: urllib3<1.27,>=1.21.1 in c:\\users\\this pc\\anaconda3\\lib\\site-packages (from requests->microprediction) (1.26.9)\n",
      "Requirement already satisfied: charset-normalizer~=2.0.0 in c:\\users\\this pc\\anaconda3\\lib\\site-packages (from requests->microprediction) (2.0.4)\n",
      "Requirement already satisfied: contextlib2>=0.5.5 in c:\\users\\this pc\\anaconda3\\lib\\site-packages (from schema->microconventions>=1.0.0->microprediction) (21.6.0)\n",
      "Requirement already satisfied: joblib>=0.11 in c:\\users\\this pc\\anaconda3\\lib\\site-packages (from scikit-learn->microprediction) (1.1.0)\n",
      "Requirement already satisfied: threadpoolctl>=2.0.0 in c:\\users\\this pc\\anaconda3\\lib\\site-packages (from scikit-learn->microprediction) (2.2.0)\n",
      "Requirement already satisfied: patsy>=0.5.2 in c:\\users\\this pc\\anaconda3\\lib\\site-packages (from statsmodels->microprediction) (0.5.2)\n",
      "Requirement already satisfied: accumulation-tree in c:\\users\\this pc\\anaconda3\\lib\\site-packages (from tdigest->microprediction) (0.6.2)\n",
      "Requirement already satisfied: pyudorandom in c:\\users\\this pc\\anaconda3\\lib\\site-packages (from tdigest->microprediction) (1.0.0)\n",
      "Requirement already satisfied: colorama in c:\\users\\this pc\\anaconda3\\lib\\site-packages (from tqdm->hyperopt->microprediction) (0.4.4)\n"
     ]
    }
   ],
   "source": [
    "!pip install river\n",
    "!pip install microprediction\n",
    "\n",
    "from river import linear_model\n",
    "from river import preprocessing"
   ]
  },
  {
   "cell_type": "code",
   "execution_count": 9,
   "id": "550162fa",
   "metadata": {},
   "outputs": [
    {
     "data": {
      "text/plain": [
       "'b37559781261a96aeab54a49ca3cfdbb'"
      ]
     },
     "execution_count": 9,
     "metadata": {},
     "output_type": "execute_result"
    }
   ],
   "source": [
    "from microprediction import new_key\n",
    "new_key(difficulty=9)"
   ]
  },
  {
   "cell_type": "code",
   "execution_count": 10,
   "id": "deb4ffe3",
   "metadata": {},
   "outputs": [],
   "source": [
    "from microprediction import MicroCrawler\n",
    "from microprediction import MicroReader\n",
    "import math \n",
    "import numpy as np\n",
    "import river.stats\n",
    "reader = MicroReader()"
   ]
  },
  {
   "cell_type": "code",
   "execution_count": 11,
   "id": "6ca60b22",
   "metadata": {},
   "outputs": [],
   "source": [
    "class MyCrawler(MicroCrawler):\n",
    "    def __init__(self, **kwargs):\n",
    "        super().__init__(**kwargs)\n",
    "        self.check = False\n",
    "        self.season = 1\n",
    "        self.var = river.stats.Var()\n",
    "        \n",
    "        \n",
    "        \n",
    "    def season(self, frequency):\n",
    "        if frequency >= 86400:\n",
    "#         The frequency is bigger than a day, then seasonality should be weekly\n",
    "            return math.ceil(604800/frequency)\n",
    "        elif frequency >= 3600:\n",
    "#         The frequency is bigger than an hour but less tha a day, then seasonality should be hourly\n",
    "            return math.ceil(86400/frequency)\n",
    "        elif frequency >= 60:\n",
    "#         The frequency is bigger than a minute but less than an hour, then seasonality should be minute\n",
    "            return math.ceil(3600/frequency)\n",
    "        else:\n",
    "#         The frequency is less than a minute, then seasonality is second\n",
    "            return math.ceil(60/frequency)\n",
    "\n",
    "    def number_of_element_in_season(self, lagged_time_array):\n",
    "        if len(lagged_time_array) == 1:\n",
    "            return season(lagged_time_array[0])\n",
    "        else:\n",
    "            return season(lagged_time_array[0] - lagged_time_array[1])\n",
    "    \n",
    "        \n",
    "    def sample(self, lagged_values, lagged_times=None, name=None, delay=None, **ignored):\n",
    "        \"\"\" An example of a sample method. This is where all the intelligence goes\n",
    "               :param lagged_values [ float ]    List with most recent listed first\n",
    "               :param lagged_times [ float ]    List of epoch times, most recent listed first\n",
    "               :param name          str         Name of stream\n",
    "               :param delay         int         Prediction horizon in seconds\n",
    "               **ignored                        For future compatability.\n",
    "               :returns            [ float ]    A vector of numbers somewhat indicative of a probability density, of length self.num_predictions\n",
    "        \"\"\"\n",
    "        lagged_times = reader.get_lagged_times(name = name)\n",
    "        if not self.check:\n",
    "            self.season = self.number_of_element_in_season(lagged_times)\n",
    "            self.check = True\n",
    "            \n",
    "        queue = collections.deque([], self.season)\n",
    "            \n",
    "            \n",
    "        \n",
    "        model = (preprocessing.StandardScaler() | linear_model.LinearRegression(intercept_lr=.1))\n",
    "        \n",
    "        \n",
    "        \n",
    "        \n",
    "        \n",
    "        \n",
    "        for x, y in zip(lagged_times, lagged_values):\n",
    "            \n",
    "        \n",
    "            new_feats = {f\"lag_{i}\": v for i, v in enumerate(queue)}\n",
    "\n",
    "            # copy of x\n",
    "            x_ = dict(x)\n",
    "            x_.update(new_feats)\n",
    "\n",
    "            y_pred = model.predict_one(x_)\n",
    "            model.learn_one(x_, y)\n",
    "            queue.append(y)\n",
    "            variance = self.var.update(y_pred).get()\n",
    "\n",
    "\n",
    "\n",
    "\n",
    "        return np.random.normal(y_pred, variance, 255)"
   ]
  },
  {
   "cell_type": "code",
   "execution_count": null,
   "id": "12178ef3",
   "metadata": {},
   "outputs": [],
   "source": []
  }
 ],
 "metadata": {
  "kernelspec": {
   "display_name": "Python 3 (ipykernel)",
   "language": "python",
   "name": "python3"
  },
  "language_info": {
   "codemirror_mode": {
    "name": "ipython",
    "version": 3
   },
   "file_extension": ".py",
   "mimetype": "text/x-python",
   "name": "python",
   "nbconvert_exporter": "python",
   "pygments_lexer": "ipython3",
   "version": "3.9.12"
  }
 },
 "nbformat": 4,
 "nbformat_minor": 5
}
