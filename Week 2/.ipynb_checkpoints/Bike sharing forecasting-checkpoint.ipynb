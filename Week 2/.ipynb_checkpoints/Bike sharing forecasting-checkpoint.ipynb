{
 "cells": [
  {
   "cell_type": "code",
   "execution_count": 1,
   "metadata": {},
   "outputs": [
    {
     "name": "stdout",
     "output_type": "stream",
     "text": [
      "Collecting river\n",
      "  Downloading river-0.11.1-cp38-cp38-win_amd64.whl (1.2 MB)\n",
      "Collecting numpy>=1.22\n",
      "  Downloading numpy-1.23.1-cp38-cp38-win_amd64.whl (14.7 MB)\n",
      "Requirement already satisfied: scipy>=1.5 in c:\\users\\this pc\\anaconda3\\lib\\site-packages (from river) (1.5.2)\n",
      "Collecting pandas>=1.3\n",
      "  Downloading pandas-1.4.3-cp38-cp38-win_amd64.whl (10.6 MB)\n",
      "Requirement already satisfied: pytz>=2020.1 in c:\\users\\this pc\\anaconda3\\lib\\site-packages (from pandas>=1.3->river) (2020.1)\n",
      "Requirement already satisfied: python-dateutil>=2.8.1 in c:\\users\\this pc\\anaconda3\\lib\\site-packages (from pandas>=1.3->river) (2.8.1)\n",
      "Requirement already satisfied: six>=1.5 in c:\\users\\this pc\\anaconda3\\lib\\site-packages (from python-dateutil>=2.8.1->pandas>=1.3->river) (1.15.0)\n",
      "Installing collected packages: numpy, pandas, river\n",
      "  Attempting uninstall: numpy\n",
      "    Found existing installation: numpy 1.19.2\n",
      "    Uninstalling numpy-1.19.2:\n",
      "      Successfully uninstalled numpy-1.19.2\n",
      "  Attempting uninstall: pandas\n",
      "    Found existing installation: pandas 1.1.3\n",
      "    Uninstalling pandas-1.1.3:\n",
      "      Successfully uninstalled pandas-1.1.3\n",
      "Successfully installed numpy-1.23.1 pandas-1.4.3 river-0.11.1\n"
     ]
    }
   ],
   "source": [
    "!pip install river"
   ]
  },
  {
   "cell_type": "code",
   "execution_count": 2,
   "metadata": {},
   "outputs": [],
   "source": [
    "%load_ext autoreload\n",
    "%autoreload 2\n"
   ]
  },
  {
   "cell_type": "code",
   "execution_count": null,
   "metadata": {},
   "outputs": [],
   "source": [
    "\n",
    "    \n",
    "\n"
   ]
  },
  {
   "cell_type": "code",
   "execution_count": 4,
   "metadata": {},
   "outputs": [
    {
     "name": "stdout",
     "output_type": "stream",
     "text": [
      "[20,000] MAE: 4.912727\n",
      "[40,000] MAE: 5.333554\n",
      "[60,000] MAE: 5.330948\n",
      "[80,000] MAE: 5.392313\n",
      "[100,000] MAE: 5.423059\n",
      "[120,000] MAE: 5.541223\n",
      "[140,000] MAE: 5.613023\n",
      "[160,000] MAE: 5.622428\n",
      "[180,000] MAE: 5.567824\n"
     ]
    },
    {
     "data": {
      "text/plain": [
       "MAE: 5.563893"
      ]
     },
     "execution_count": 4,
     "metadata": {},
     "output_type": "execute_result"
    }
   ],
   "source": [
    "from river import compose\n",
    "from river import linear_model\n",
    "from river import metrics\n",
    "from river import evaluate\n",
    "from river import preprocessing\n",
    "from river import optim\n",
    "\n",
    "\n",
    "model = compose.Select('clouds', 'humidity', 'pressure', 'temperature', 'wind')\n",
    "model |= preprocessing.StandardScaler()\n",
    "model |= linear_model.LinearRegression(optimizer=optim.SGD(0.001))\n",
    "\n",
    "metric = metrics.MAE()\n",
    "\n",
    "evaluate.progressive_val_score(dataset, model, metric, print_every=20_000)\n"
   ]
  },
  {
   "cell_type": "markdown",
   "metadata": {},
   "source": [
    "What I learnt and concepts I don't understand:\n",
    "- compose.Select: The parameters are put into a set and the columns of the features included in the set will be extracted\n",
    "- preprocessing.StandardScaler: Each object in the class will take 4 parameters (A boolean to check if it is neccessary to get std equal 1, a counter to keep track of the number of datapoints learnt, a mean and a variance). Then learn_one will update the mean and the variance (if the boolean is True) while learn_many will update the mean and variance of each feature using itertool_zip\n",
    "- linear reg: There are severals things I don't understand\n",
    "    + Intercept_init and the _super() part in the class?\n",
    "    + self.loss.mean_func(self._raw_dot_one(x)). Parameters that the loss function takes? Mean_func?\n",
    "    + No learn_one function?\n",
    "    \n",
    "- MAE : Mean Absolute Error\n",
    "- Progressive_val_score:\n",
    "    + Metric in accordance with model?\n",
    "    + utils.inspect?\n",
    "    + next_checkpoint?\n",
    "    \n",
    "- Simualte_qa: Show datapoints in order of arrival\n",
    "\n",
    "\n"
   ]
  },
  {
   "cell_type": "code",
   "execution_count": 6,
   "metadata": {},
   "outputs": [
    {
     "name": "stdout",
     "output_type": "stream",
     "text": [
      "[20,000] MAE: 3.721246\n",
      "[40,000] MAE: 3.829972\n",
      "[60,000] MAE: 3.845068\n",
      "[80,000] MAE: 3.910259\n",
      "[100,000] MAE: 3.888652\n",
      "[120,000] MAE: 3.923727\n",
      "[140,000] MAE: 3.980953\n",
      "[160,000] MAE: 3.950034\n",
      "[180,000] MAE: 3.934545\n"
     ]
    },
    {
     "data": {
      "text/plain": [
       "MAE: 3.933498"
      ]
     },
     "execution_count": 6,
     "metadata": {},
     "output_type": "execute_result"
    }
   ],
   "source": [
    "from river import feature_extraction\n",
    "from river import stats\n",
    "\n",
    "def get_hour(x):\n",
    "    x['hour'] = x['moment'].hour\n",
    "    return x\n",
    "\n",
    "model = compose.Select('clouds', 'humidity', 'pressure', 'temperature', 'wind')\n",
    "model += (\n",
    "    get_hour |\n",
    "    feature_extraction.TargetAgg(by=['station', 'hour'], how=stats.Mean())\n",
    ")\n",
    "model |= preprocessing.StandardScaler()\n",
    "model |= linear_model.LinearRegression(optimizer=optim.SGD(0.001))\n",
    "\n",
    "metric = metrics.MAE()\n",
    "\n",
    "evaluate.progressive_val_score(dataset, model, metric, print_every=20_000)\n"
   ]
  },
  {
   "cell_type": "code",
   "execution_count": 7,
   "metadata": {},
   "outputs": [
    {
     "name": "stdout",
     "output_type": "stream",
     "text": [
      "<class 'river.datasets.bikes.Bikes'>\n",
      "['scattered clouds', 'light rain', 'thunderstorm with heavy rain', 'few clouds', 'thunderstorm with light rain', 'light intensity drizzle rain', 'mist', 'drizzle', 'Sky is Clear', 'moderate rain', 'heavy intensity rain', 'thunderstorm', 'light intensity drizzle', 'overcast clouds', 'thunderstorm with rain', 'clear sky', 'very heavy rain', 'broken clouds']\n",
      "[20,000] MAE: 3.723647\n",
      "[40,000] MAE: 3.831113\n",
      "[60,000] MAE: 3.847153\n",
      "[80,000] MAE: 3.911021\n",
      "[100,000] MAE: 3.888753\n",
      "[120,000] MAE: 3.924125\n",
      "[140,000] MAE: 3.981258\n",
      "[160,000] MAE: 3.949619\n",
      "[180,000] MAE: 3.93391\n"
     ]
    },
    {
     "data": {
      "text/plain": [
       "MAE: 3.932767"
      ]
     },
     "execution_count": 7,
     "metadata": {},
     "output_type": "execute_result"
    }
   ],
   "source": [
    "from pprint import pprint\n",
    "from river import datasets\n",
    "\n",
    "dataset = datasets.Bikes()\n",
    "\n",
    "def get_hour(x):\n",
    "    x['hour'] = x['moment'].hour\n",
    "    return x\n",
    "\n",
    "\n",
    "print(type(dataset))\n",
    "cache_weather = set()\n",
    "for x, y in dataset:\n",
    "    if x['description'] not in cache_weather:\n",
    "        cache_weather.add(x['description'])\n",
    "# print(cache_weather)\n",
    "# print(len(cache_weather))\n",
    "weather_list = list(cache_weather)\n",
    "print(weather_list)\n",
    "\n",
    "\n",
    "def get_weather(x):\n",
    "    if x['description'] in {'light intensity drizzle rain', 'very heavy rain', 'moderate rain', 'drizzle', 'thunderstorm with heavy rain', 'heavy intensity rain', 'mist', 'overcast clouds', 'light intensity drizzle', 'thunderstorm with light rain', 'thunderstorm', 'thunderstorm with rain', 'light rain'}:\n",
    "        x['rain'] = 2\n",
    "    else:\n",
    "        x['rain'] = 1\n",
    "    return x\n",
    "\n",
    "cache_station = set()\n",
    "for x, y in dataset:\n",
    "    if x['station'] not in cache_station:\n",
    "        cache_station.add(x['station'])\n",
    "# print(cache_station)\n",
    "# print(len(cache_station))\n",
    "station_list = list(cache_station)\n",
    "# print(station_list)\n",
    "\n",
    "def get_station(x):\n",
    "    for station in station_list:\n",
    "        if x['station'] == station:\n",
    "            x[station] = 1\n",
    "        else:\n",
    "            x[station] = 0\n",
    "    return x\n",
    "\n",
    "def add_feature(x):\n",
    "    get_weather(x)\n",
    "    return x\n",
    "\n",
    "model = add_feature\n",
    "model |= compose.Discard('station', 'description', 'moment')\n",
    "model += (\n",
    "    get_hour |\n",
    "    feature_extraction.TargetAgg(by=['station', 'hour'], how=stats.Mean())\n",
    ")\n",
    "\n",
    "model |= preprocessing.StandardScaler()\n",
    "model |= linear_model.LinearRegression(optimizer=optim.SGD(0.001))\n",
    "\n",
    "metric = metrics.MAE()\n",
    "\n",
    "evaluate.progressive_val_score(dataset, model, metric, print_every=20_000)"
   ]
  },
  {
   "cell_type": "code",
   "execution_count": 8,
   "metadata": {},
   "outputs": [
    {
     "name": "stdout",
     "output_type": "stream",
     "text": [
      "0. Input\n",
      "--------\n",
      "clouds: 88 (int)\n",
      "description: overcast clouds (str)\n",
      "humidity: 84 (int)\n",
      "moment: 2016-10-05 09:57:18 (datetime)\n",
      "pressure: 1,017.34000 (float)\n",
      "station: pomme (str)\n",
      "temperature: 17.45000 (float)\n",
      "wind: 1.95000 (float)\n",
      "\n",
      "1. Transformer union\n",
      "--------------------\n",
      "    1.0 add_feature | ~['description', 'moment', 'station']\n",
      "    -------------------------------------------------------\n",
      "    clouds: 88 (int)\n",
      "    humidity: 84 (int)\n",
      "    pressure: 1,017.34000 (float)\n",
      "    rain: 2 (int)\n",
      "    temperature: 17.45000 (float)\n",
      "    wind: 1.95000 (float)\n",
      "\n",
      "    1.1 get_hour | y_mean_by_station_and_hour\n",
      "    -----------------------------------------\n",
      "    y_mean_by_station_and_hour: 7.89396 (float)\n",
      "\n",
      "clouds: 88 (int)\n",
      "hour: 9 (int)\n",
      "humidity: 84 (int)\n",
      "pressure: 1,017.34000 (float)\n",
      "rain: 2 (int)\n",
      "temperature: 17.45000 (float)\n",
      "wind: 1.95000 (float)\n",
      "y_mean_by_station_and_hour: 7.89396 (float)\n",
      "\n",
      "2. StandardScaler\n",
      "-----------------\n",
      "clouds: 1.54778 (float)\n",
      "hour: 0.00000 (float)\n",
      "humidity: 1.16366 (float)\n",
      "pressure: 0.04916 (float)\n",
      "rain: 1.82440 (float)\n",
      "temperature: -0.51938 (float)\n",
      "wind: -0.69426 (float)\n",
      "y_mean_by_station_and_hour: -0.27110 (float)\n",
      "\n",
      "3. LinearRegression\n",
      "-------------------\n",
      "Name                         Value      Weight     Contribution  \n",
      "                 Intercept    1.00000    5.68547        5.68547  \n",
      "                  humidity    1.16366    3.82127        4.44665  \n",
      "               temperature   -0.51938   -2.72926        1.41752  \n",
      "                      wind   -0.69426   -0.19753        0.13714  \n",
      "                  pressure    0.04916    2.09185        0.10284  \n",
      "                      hour    0.00000    0.00000        0.00000  \n",
      "                      rain    1.82440   -0.00744       -0.01357  \n",
      "                    clouds    1.54778   -0.14441       -0.22352  \n",
      "y_mean_by_station_and_hour   -0.27110    3.88833       -1.05411  \n",
      "\n",
      "Prediction: 10.49842\n"
     ]
    }
   ],
   "source": [
    "print(model.debug_one(x))"
   ]
  },
  {
   "cell_type": "markdown",
   "metadata": {},
   "source": [
    "We want to make use of the weather feature so a naive method to convert classified values into numbers is to do seperate the classes into 2 and assign 1 to a group and 0 to the other. Here, there are 18 'description' classes and I classified them by rain and not rain.\n",
    "By adding the feature weather, we see that the error decrease a little."
   ]
  },
  {
   "cell_type": "code",
   "execution_count": 52,
   "metadata": {},
   "outputs": [
    {
     "name": "stdout",
     "output_type": "stream",
     "text": [
      "<class 'river.datasets.bikes.Bikes'>\n",
      "['light intensity drizzle rain', 'very heavy rain', 'clear sky', 'Sky is Clear', 'moderate rain', 'drizzle', 'thunderstorm with heavy rain', 'heavy intensity rain', 'mist', 'overcast clouds', 'light intensity drizzle', 'thunderstorm with light rain', 'scattered clouds', 'thunderstorm', 'few clouds', 'thunderstorm with rain', 'light rain', 'broken clouds']\n",
      "[20,000] MAE: 2.828958\n",
      "[40,000] MAE: 2.920016\n",
      "[60,000] MAE: 3.001646\n",
      "[80,000] MAE: 3.097058\n",
      "[100,000] MAE: 3.12772\n",
      "[120,000] MAE: 3.126179\n",
      "[140,000] MAE: 3.127185\n",
      "[160,000] MAE: 3.126707\n",
      "[180,000] MAE: 3.138914\n"
     ]
    },
    {
     "data": {
      "text/plain": [
       "MAE: 3.139136"
      ]
     },
     "execution_count": 52,
     "metadata": {},
     "output_type": "execute_result"
    }
   ],
   "source": [
    "from pprint import pprint\n",
    "from river import datasets\n",
    "\n",
    "dataset = datasets.Bikes()\n",
    "\n",
    "def get_hour(x):\n",
    "    x['hour'] = x['moment'].hour\n",
    "    return x\n",
    "\n",
    "\n",
    "print(type(dataset))\n",
    "cache_weather = set()\n",
    "for x, y in dataset:\n",
    "    if x['description'] not in cache_weather:\n",
    "        cache_weather.add(x['description'])\n",
    "# print(cache_weather)\n",
    "# print(len(cache_weather))\n",
    "weather_list = list(cache_weather)\n",
    "print(weather_list)\n",
    "\n",
    "\n",
    "def get_weather(x):\n",
    "    if x['description'] in {'light intensity drizzle rain', 'very heavy rain', 'moderate rain', 'drizzle', 'thunderstorm with heavy rain', 'heavy intensity rain', 'mist', 'overcast clouds', 'light intensity drizzle', 'thunderstorm with light rain', 'thunderstorm', 'thunderstorm with rain', 'light rain'}:\n",
    "        x['rain'] = 2\n",
    "    else:\n",
    "        x['rain'] = 1\n",
    "    return x\n",
    "\n",
    "cache_station = set()\n",
    "for x, y in dataset:\n",
    "    if x['station'] not in cache_station:\n",
    "        cache_station.add(x['station'])\n",
    "# print(cache_station)\n",
    "# print(len(cache_station))\n",
    "station_list = list(cache_station)\n",
    "# print(station_list)\n",
    "\n",
    "def get_station(x):\n",
    "    for station in station_list:\n",
    "        if x['station'] == station:\n",
    "            x[station] = 1\n",
    "        else:\n",
    "            x[station] = 0\n",
    "    return x\n",
    "\n",
    "def add_feature(x):\n",
    "    get_weather(x)\n",
    "    get_station(x)\n",
    "    return x\n",
    "\n",
    "model = add_feature\n",
    "model |= compose.Discard('station', 'description', 'moment')\n",
    "model += (\n",
    "    get_hour |\n",
    "    feature_extraction.TargetAgg(by=['station', 'hour'], how=stats.Mean())\n",
    ")\n",
    "\n",
    "model |= preprocessing.StandardScaler()\n",
    "model |= linear_model.LinearRegression(optimizer=optim.SGD(0.001))\n",
    "\n",
    "metric = metrics.MAE()\n",
    "\n",
    "evaluate.progressive_val_score(dataset, model, metric, print_every=20_000)"
   ]
  },
  {
   "cell_type": "markdown",
   "metadata": {},
   "source": [
    "Since there are only 5 stations and they share no common features, I set 5 new features and assign 1 if the location it is in x\n",
    "and the other 4 get 0.\n",
    "By adding the location feature, we see that the error get much lower."
   ]
  },
  {
   "cell_type": "code",
   "execution_count": 7,
   "metadata": {},
   "outputs": [
    {
     "name": "stdout",
     "output_type": "stream",
     "text": [
      "0. Input\n",
      "--------\n",
      "clouds: 75 (int)\n",
      "description: light rain (str)\n",
      "humidity: 81 (int)\n",
      "moment: 2016-04-01 00:00:07 (datetime)\n",
      "pressure: 1,017.00000 (float)\n",
      "station: metro-canal-du-midi (str)\n",
      "temperature: 6.54000 (float)\n",
      "wind: 9.30000 (float)\n",
      "\n",
      "1. Transformer union\n",
      "--------------------\n",
      "    1.0 Select\n",
      "    ----------\n",
      "    clouds: 75 (int)\n",
      "    humidity: 81 (int)\n",
      "    pressure: 1,017.00000 (float)\n",
      "    temperature: 6.54000 (float)\n",
      "    wind: 9.30000 (float)\n",
      "\n",
      "    1.1 get_hour | y_mean_by_station_and_hour\n",
      "    -----------------------------------------\n",
      "    y_mean_by_station_and_hour: 4.43243 (float)\n",
      "\n",
      "clouds: 75 (int)\n",
      "humidity: 81 (int)\n",
      "pressure: 1,017.00000 (float)\n",
      "temperature: 6.54000 (float)\n",
      "wind: 9.30000 (float)\n",
      "y_mean_by_station_and_hour: 4.43243 (float)\n",
      "\n",
      "2. StandardScaler\n",
      "-----------------\n",
      "clouds: 0.47566 (float)\n",
      "humidity: 0.42247 (float)\n",
      "pressure: 1.05314 (float)\n",
      "temperature: -1.22098 (float)\n",
      "wind: 2.21104 (float)\n",
      "y_mean_by_station_and_hour: -0.59098 (float)\n",
      "\n",
      "3. LinearRegression\n",
      "-------------------\n",
      "Name                         Value      Weight     Contribution  \n",
      "                 Intercept    1.00000    6.58252        6.58252  \n",
      "                  pressure    1.05314    3.78529        3.98646  \n",
      "                  humidity    0.42247    1.44921        0.61225  \n",
      "y_mean_by_station_and_hour   -0.59098    0.54167       -0.32011  \n",
      "                    clouds    0.47566   -1.92255       -0.91448  \n",
      "                      wind    2.21104   -0.77720       -1.71843  \n",
      "               temperature   -1.22098    2.47030       -3.01619  \n",
      "\n",
      "Prediction: 5.21201\n"
     ]
    }
   ],
   "source": [
    "import itertools\n",
    "\n",
    "model = compose.Select('clouds', 'humidity', 'pressure', 'temperature', 'wind')\n",
    "model += (\n",
    "    get_hour |\n",
    "    feature_extraction.TargetAgg(by=['station', 'hour'], how=stats.Mean())\n",
    ")\n",
    "model |= preprocessing.StandardScaler()\n",
    "model |= linear_model.LinearRegression()\n",
    "\n",
    "for x, y in itertools.islice(dataset, 10000):\n",
    "    y_pred = model.predict_one(x)\n",
    "    model.learn_one(x, y)\n",
    "\n",
    "x, y = next(iter(dataset))\n",
    "print(model.debug_one(x))\n"
   ]
  },
  {
   "cell_type": "code",
   "execution_count": 8,
   "metadata": {},
   "outputs": [
    {
     "name": "stdout",
     "output_type": "stream",
     "text": [
      "[20,000] MAE: 4.203433\n",
      "[40,000] MAE: 4.195404\n",
      "[60,000] MAE: 4.130316\n",
      "[80,000] MAE: 4.122796\n",
      "[100,000] MAE: 4.069826\n",
      "[120,000] MAE: 4.066034\n",
      "[140,000] MAE: 4.088604\n",
      "[160,000] MAE: 4.059282\n",
      "[180,000] MAE: 4.026821\n"
     ]
    },
    {
     "data": {
      "text/plain": [
       "MAE: 4.024939"
      ]
     },
     "execution_count": 8,
     "metadata": {},
     "output_type": "execute_result"
    }
   ],
   "source": [
    "import datetime as dt\n",
    "\n",
    "evaluate.progressive_val_score(\n",
    "    dataset=dataset,\n",
    "    model=model.clone(),\n",
    "    metric=metrics.MAE(),\n",
    "    moment='moment',\n",
    "    delay=dt.timedelta(minutes=30),\n",
    "    print_every=20_000\n",
    ")\n"
   ]
  },
  {
   "cell_type": "markdown",
   "metadata": {},
   "source": [
    "R2 score:\n",
    "- Coefficient of determination: Basic idea is to see the ratio between square error of the line and square error of the labels. The smaller the square error of the line is, the better the model.\n",
    "- Update by first updating the variance, then the square error of the line\n",
    "    + sample_weight?\n",
    "    \n",
    "\n",
    "\n"
   ]
  },
  {
   "cell_type": "code",
   "execution_count": 17,
   "metadata": {},
   "outputs": [
    {
     "name": "stdout",
     "output_type": "stream",
     "text": [
      "[20,000] R2: 0.389708\n",
      "[40,000] R2: 0.368931\n",
      "[60,000] R2: 0.364829\n",
      "[80,000] R2: 0.356374\n",
      "[100,000] R2: 0.352245\n",
      "[120,000] R2: 0.344607\n",
      "[140,000] R2: 0.336937\n",
      "[160,000] R2: 0.336293\n",
      "[180,000] R2: 0.341127\n",
      "[20,000] RMSE: 6.691911\n",
      "[40,000] RMSE: 7.026693\n",
      "[60,000] RMSE: 6.993845\n",
      "[80,000] RMSE: 7.090635\n",
      "[100,000] RMSE: 7.108276\n",
      "[120,000] RMSE: 7.206799\n",
      "[140,000] RMSE: 7.275251\n",
      "[160,000] RMSE: 7.303001\n",
      "[180,000] RMSE: 7.271946\n"
     ]
    },
    {
     "data": {
      "text/plain": [
       "RMSE: 7.267737"
      ]
     },
     "execution_count": 17,
     "metadata": {},
     "output_type": "execute_result"
    }
   ],
   "source": [
    "model = compose.Select('clouds', 'humidity', 'pressure', 'temperature', 'wind')\n",
    "model |= preprocessing.StandardScaler()\n",
    "model |= linear_model.LinearRegression(optimizer=optim.SGD(0.001))\n",
    "\n",
    "metric1 = metrics.R2()\n",
    "metric2 = metrics.RMSE()\n",
    "\n",
    "\n",
    "evaluate.progressive_val_score(dataset, model, metric1, print_every=20_000)\n",
    "evaluate.progressive_val_score(dataset, model, metric2, print_every=20_000)"
   ]
  },
  {
   "cell_type": "markdown",
   "metadata": {},
   "source": [
    "With out the existence of time feature, the metric score is quite low (far from 1)."
   ]
  },
  {
   "cell_type": "code",
   "execution_count": 10,
   "metadata": {},
   "outputs": [
    {
     "name": "stdout",
     "output_type": "stream",
     "text": [
      "[20,000] MSE: 43.271017\n",
      "[40,000] MSE: 48.344556\n",
      "[60,000] MSE: 48.169653\n",
      "[80,000] MSE: 49.668739\n",
      "[100,000] MSE: 50.014417\n",
      "[120,000] MSE: 51.500157\n",
      "[140,000] MSE: 52.546765\n",
      "[160,000] MSE: 52.999709\n",
      "[180,000] MSE: 52.581995\n"
     ]
    },
    {
     "data": {
      "text/plain": [
       "MSE: 52.524742"
      ]
     },
     "execution_count": 10,
     "metadata": {},
     "output_type": "execute_result"
    }
   ],
   "source": [
    "model = compose.Select('clouds', 'humidity', 'pressure', 'temperature', 'wind')\n",
    "model |= preprocessing.StandardScaler()\n",
    "model |= linear_model.LinearRegression(optimizer=optim.SGD(0.001))\n",
    "\n",
    "metric = metrics.MSE()\n",
    "\n",
    "evaluate.progressive_val_score(dataset, model, metric, print_every=20_000)"
   ]
  },
  {
   "cell_type": "markdown",
   "metadata": {},
   "source": [
    "The RMSE increases as we add datapoints which means we should add features or extract polynomial degree features. "
   ]
  },
  {
   "cell_type": "code",
   "execution_count": 16,
   "metadata": {},
   "outputs": [
    {
     "name": "stdout",
     "output_type": "stream",
     "text": [
      "[20,000] MAE: 4.933912\n",
      "[40,000] MAE: 5.341118\n",
      "[60,000] MAE: 5.325019\n",
      "[80,000] MAE: 5.374263\n",
      "[100,000] MAE: 5.394721\n",
      "[120,000] MAE: 5.509585\n",
      "[140,000] MAE: 5.58477\n",
      "[160,000] MAE: 5.588667\n",
      "[180,000] MAE: 5.530857\n",
      "[20,000] RMSE: 6.667285\n",
      "[40,000] RMSE: 7.009185\n",
      "[60,000] RMSE: 6.980304\n",
      "[80,000] RMSE: 7.068839\n",
      "[100,000] RMSE: 7.081574\n",
      "[120,000] RMSE: 7.181142\n",
      "[140,000] RMSE: 7.250624\n",
      "[160,000] RMSE: 7.27599\n",
      "[180,000] RMSE: 7.245113\n"
     ]
    },
    {
     "data": {
      "text/plain": [
       "RMSE: 7.240081"
      ]
     },
     "execution_count": 16,
     "metadata": {},
     "output_type": "execute_result"
    }
   ],
   "source": [
    "from river import feature_extraction\n",
    "model = compose.Select('clouds', 'humidity', 'pressure', 'temperature', 'wind')\n",
    "model |= feature_extraction.PolynomialExtender(interaction_only=True)\n",
    "model |= preprocessing.StandardScaler()\n",
    "model |= linear_model.LinearRegression(optimizer=optim.SGD(0.001))\n",
    "\n",
    "metric1 = metrics.MAE()\n",
    "metric2 = metrics.RMSE()\n",
    "\n",
    "evaluate.progressive_val_score(dataset, model, metric1, print_every=20_000)\n",
    "evaluate.progressive_val_score(dataset, model, metric2, print_every=20_000)"
   ]
  },
  {
   "cell_type": "markdown",
   "metadata": {},
   "source": [
    "Adding the polynomial features help decrease both RMSE and R2."
   ]
  },
  {
   "cell_type": "code",
   "execution_count": 13,
   "metadata": {},
   "outputs": [
    {
     "name": "stdout",
     "output_type": "stream",
     "text": [
      "<class 'river.datasets.bikes.Bikes'>\n",
      "['scattered clouds', 'light rain', 'thunderstorm with heavy rain', 'few clouds', 'thunderstorm with light rain', 'light intensity drizzle rain', 'mist', 'drizzle', 'Sky is Clear', 'moderate rain', 'heavy intensity rain', 'thunderstorm', 'light intensity drizzle', 'overcast clouds', 'thunderstorm with rain', 'clear sky', 'very heavy rain', 'broken clouds']\n",
      "[20,000] MAE: 1.645678\n",
      "[40,000] MAE: 1.657413\n",
      "[60,000] MAE: 1.68982\n",
      "[80,000] MAE: 1.766984\n",
      "[100,000] MAE: 1.824618\n",
      "[120,000] MAE: 1.843591\n",
      "[140,000] MAE: 1.870782\n",
      "[160,000] MAE: 1.896705\n",
      "[180,000] MAE: 1.913381\n",
      "[20,000] MSE: 4.464201\n",
      "[40,000] MSE: 4.645743\n",
      "[60,000] MSE: 5.127339\n",
      "[80,000] MSE: 5.7859\n",
      "[100,000] MSE: 6.284571\n",
      "[120,000] MSE: 6.426705\n",
      "[140,000] MSE: 6.622598\n",
      "[160,000] MSE: 6.836894\n",
      "[180,000] MSE: 6.974476\n"
     ]
    },
    {
     "data": {
      "text/plain": [
       "MSE: 6.982597"
      ]
     },
     "execution_count": 13,
     "metadata": {},
     "output_type": "execute_result"
    }
   ],
   "source": [
    "from pprint import pprint\n",
    "from river import datasets\n",
    "\n",
    "dataset = datasets.Bikes()\n",
    "\n",
    "def get_hour(x):\n",
    "    x['hour'] = x['moment'].hour\n",
    "    return x\n",
    "\n",
    "\n",
    "print(type(dataset))\n",
    "cache_weather = set()\n",
    "for x, y in dataset:\n",
    "    if x['description'] not in cache_weather:\n",
    "        cache_weather.add(x['description'])\n",
    "# print(cache_weather)\n",
    "# print(len(cache_weather))\n",
    "weather_list = list(cache_weather)\n",
    "print(weather_list)\n",
    "\n",
    "\n",
    "def get_weather(x):\n",
    "    if x['description'] in {'light intensity drizzle rain', 'very heavy rain', 'moderate rain', 'drizzle', 'thunderstorm with heavy rain', 'heavy intensity rain', 'mist', 'overcast clouds', 'light intensity drizzle', 'thunderstorm with light rain', 'thunderstorm', 'thunderstorm with rain', 'light rain'}:\n",
    "        x['rain'] = 2\n",
    "    else:\n",
    "        x['rain'] = 1\n",
    "    return x\n",
    "\n",
    "cache_station = set()\n",
    "for x, y in dataset:\n",
    "    if x['station'] not in cache_station:\n",
    "        cache_station.add(x['station'])\n",
    "# print(cache_station)\n",
    "# print(len(cache_station))\n",
    "station_list = list(cache_station)\n",
    "# print(station_list)\n",
    "\n",
    "def get_station(x):\n",
    "    for station in station_list:\n",
    "        if x['station'] == station:\n",
    "            x[station] = 1\n",
    "        else:\n",
    "            x[station] = 0\n",
    "    return x\n",
    "\n",
    "def add_feature(x):\n",
    "    get_weather(x)\n",
    "    get_station(x)\n",
    "    return x\n",
    "\n",
    "model = add_feature\n",
    "model |= compose.Discard('station', 'description', 'moment')\n",
    "model += (\n",
    "    get_hour |\n",
    "    feature_extraction.TargetAgg(by=['station', 'hour'], how=stats.Mean())\n",
    ")\n",
    "model |= feature_extraction.PolynomialExtender(interaction_only=True)\n",
    "model |= preprocessing.StandardScaler()\n",
    "model |= linear_model.LinearRegression(optimizer=optim.SGD(0.001))\n",
    "\n",
    "metric1 = metrics.MAE()\n",
    "metric2 = metrics.MSE()\n",
    "\n",
    "evaluate.progressive_val_score(dataset, model, metric1, print_every=20_000)\n",
    "evaluate.progressive_val_score(dataset, model, metric2, print_every=20_000)"
   ]
  },
  {
   "cell_type": "markdown",
   "metadata": {},
   "source": [
    "As we combine both feature addition and polynomial extension, the error is approximately 2, which is much better than the original model."
   ]
  },
  {
   "cell_type": "code",
   "execution_count": 9,
   "metadata": {},
   "outputs": [
    {
     "name": "stdout",
     "output_type": "stream",
     "text": [
      "<class 'river.datasets.bikes.Bikes'>\n",
      "['scattered clouds', 'light rain', 'thunderstorm with heavy rain', 'few clouds', 'thunderstorm with light rain', 'light intensity drizzle rain', 'mist', 'drizzle', 'Sky is Clear', 'moderate rain', 'heavy intensity rain', 'thunderstorm', 'light intensity drizzle', 'overcast clouds', 'thunderstorm with rain', 'clear sky', 'very heavy rain', 'broken clouds']\n",
      "[20,000] MAE: 1.649619\n",
      "[40,000] MAE: 1.659618\n",
      "[60,000] MAE: 1.691286\n",
      "[80,000] MAE: 1.768075\n",
      "[100,000] MAE: 1.825491\n",
      "[120,000] MAE: 1.844346\n",
      "[140,000] MAE: 1.871433\n",
      "[160,000] MAE: 1.897282\n",
      "[180,000] MAE: 1.913895\n"
     ]
    },
    {
     "data": {
      "text/plain": [
       "MAE: 1.916351"
      ]
     },
     "execution_count": 9,
     "metadata": {},
     "output_type": "execute_result"
    }
   ],
   "source": [
    "from pprint import pprint\n",
    "from river import datasets\n",
    "from river import model_selection\n",
    "from river import linear_model\n",
    "\n",
    "dataset = datasets.Bikes()\n",
    "\n",
    "def get_hour(x):\n",
    "    x['hour'] = x['moment'].hour\n",
    "    return x\n",
    "\n",
    "\n",
    "print(type(dataset))\n",
    "cache_weather = set()\n",
    "for x, y in dataset:\n",
    "    if x['description'] not in cache_weather:\n",
    "        cache_weather.add(x['description'])\n",
    "# print(cache_weather)\n",
    "# print(len(cache_weather))\n",
    "weather_list = list(cache_weather)\n",
    "print(weather_list)\n",
    "\n",
    "\n",
    "def get_weather(x):\n",
    "    if x['description'] in {'light intensity drizzle rain', 'very heavy rain', 'moderate rain', 'drizzle', 'thunderstorm with heavy rain', 'heavy intensity rain', 'mist', 'overcast clouds', 'light intensity drizzle', 'thunderstorm with light rain', 'thunderstorm', 'thunderstorm with rain', 'light rain'}:\n",
    "        x['rain'] = 2\n",
    "    else:\n",
    "        x['rain'] = 1\n",
    "    return x\n",
    "\n",
    "cache_station = set()\n",
    "for x, y in dataset:\n",
    "    if x['station'] not in cache_station:\n",
    "        cache_station.add(x['station'])\n",
    "# print(cache_station)\n",
    "# print(len(cache_station))\n",
    "station_list = list(cache_station)\n",
    "# print(station_list)\n",
    "\n",
    "def get_station(x):\n",
    "    for station in station_list:\n",
    "        if x['station'] == station:\n",
    "            x[station] = 1\n",
    "        else:\n",
    "            x[station] = 0\n",
    "    return x\n",
    "\n",
    "def add_feature(x):\n",
    "    get_weather(x)\n",
    "    get_station(x)\n",
    "    return x\n",
    "\n",
    "models = [linear_model.LinearRegression(optimizer=optim.SGD(lr=lr)) for lr in [0.0001, 0.001, 1e-05, 0.01]]\n",
    "\n",
    "\n",
    "model = add_feature\n",
    "model |= compose.Discard('station', 'description', 'moment')\n",
    "model += (\n",
    "    get_hour |\n",
    "    feature_extraction.TargetAgg(by=['station', 'hour'], how=stats.Mean())\n",
    ")\n",
    "model |= feature_extraction.PolynomialExtender(interaction_only=True)\n",
    "model |= preprocessing.StandardScaler()\n",
    "model |= model_selection.EpsilonGreedyRegressor(models,epsilon=0.1,decay=0.001,burn_in=100,seed=1)\n",
    "\n",
    "metric = metrics.MSE()\n",
    "\n",
    "evaluate.progressive_val_score(dataset, model, metric, print_every=20_000)"
   ]
  },
  {
   "cell_type": "code",
   "execution_count": 10,
   "metadata": {},
   "outputs": [
    {
     "name": "stdout",
     "output_type": "stream",
     "text": [
      "<class 'river.datasets.bikes.Bikes'>\n",
      "['scattered clouds', 'light rain', 'thunderstorm with heavy rain', 'few clouds', 'thunderstorm with light rain', 'light intensity drizzle rain', 'mist', 'drizzle', 'Sky is Clear', 'moderate rain', 'heavy intensity rain', 'thunderstorm', 'light intensity drizzle', 'overcast clouds', 'thunderstorm with rain', 'clear sky', 'very heavy rain', 'broken clouds']\n",
      "[20,000] MAE: 1.645991\n",
      "[40,000] MAE: 1.65757\n",
      "[60,000] MAE: 1.689924\n",
      "[80,000] MAE: 1.767063\n",
      "[100,000] MAE: 1.824681\n",
      "[120,000] MAE: 1.843644\n",
      "[140,000] MAE: 1.870827\n",
      "[160,000] MAE: 1.896744\n",
      "[180,000] MAE: 1.913416\n"
     ]
    },
    {
     "data": {
      "text/plain": [
       "MAE: 1.915881"
      ]
     },
     "execution_count": 10,
     "metadata": {},
     "output_type": "execute_result"
    }
   ],
   "source": [
    "from pprint import pprint\n",
    "from river import datasets\n",
    "from river import model_selection\n",
    "from river import linear_model\n",
    "\n",
    "dataset = datasets.Bikes()\n",
    "\n",
    "def get_hour(x):\n",
    "    x['hour'] = x['moment'].hour\n",
    "    return x\n",
    "\n",
    "\n",
    "print(type(dataset))\n",
    "cache_weather = set()\n",
    "for x, y in dataset:\n",
    "    if x['description'] not in cache_weather:\n",
    "        cache_weather.add(x['description'])\n",
    "# print(cache_weather)\n",
    "# print(len(cache_weather))\n",
    "weather_list = list(cache_weather)\n",
    "print(weather_list)\n",
    "\n",
    "\n",
    "def get_weather(x):\n",
    "    if x['description'] in {'light intensity drizzle rain', 'very heavy rain', 'moderate rain', 'drizzle', 'thunderstorm with heavy rain', 'heavy intensity rain', 'mist', 'overcast clouds', 'light intensity drizzle', 'thunderstorm with light rain', 'thunderstorm', 'thunderstorm with rain', 'light rain'}:\n",
    "        x['rain'] = 2\n",
    "    else:\n",
    "        x['rain'] = 1\n",
    "    return x\n",
    "\n",
    "cache_station = set()\n",
    "for x, y in dataset:\n",
    "    if x['station'] not in cache_station:\n",
    "        cache_station.add(x['station'])\n",
    "# print(cache_station)\n",
    "# print(len(cache_station))\n",
    "station_list = list(cache_station)\n",
    "# print(station_list)\n",
    "\n",
    "def get_station(x):\n",
    "    for station in station_list:\n",
    "        if x['station'] == station:\n",
    "            x[station] = 1\n",
    "        else:\n",
    "            x[station] = 0\n",
    "    return x\n",
    "\n",
    "def add_feature(x):\n",
    "    get_weather(x)\n",
    "    get_station(x)\n",
    "    return x\n",
    "\n",
    "models = [linear_model.LinearRegression(optimizer=optim.SGD(lr=lr)) for lr in [0.0001, 0.001, 1e-05, 0.01]]\n",
    "metric = metrics.MAE()\n",
    "\n",
    "model = add_feature\n",
    "model |= compose.Discard('station', 'description', 'moment')\n",
    "model += (\n",
    "    get_hour |\n",
    "    feature_extraction.TargetAgg(by=['station', 'hour'], how=stats.Mean())\n",
    ")\n",
    "model |= feature_extraction.PolynomialExtender(interaction_only=True)\n",
    "model |= preprocessing.StandardScaler()\n",
    "model |= model_selection.GreedyRegressor(models, metric)\n",
    "\n",
    "metric = metrics.MSE()\n",
    "\n",
    "evaluate.progressive_val_score(dataset, model, metric, print_every=20_000)"
   ]
  },
  {
   "cell_type": "code",
   "execution_count": null,
   "metadata": {},
   "outputs": [],
   "source": [
    "from river import facto\n",
    "from pprint import pprint\n",
    "from river import datasets\n",
    "from river import model_selection\n",
    "from river import linear_model\n",
    "\n",
    "dataset = datasets.Bikes()\n",
    "\n",
    "def get_hour(x):\n",
    "    x['hour'] = x['moment'].hour\n",
    "    return x\n",
    "\n",
    "\n",
    "print(type(dataset))\n",
    "cache_weather = set()\n",
    "for x, y in dataset:\n",
    "    if x['description'] not in cache_weather:\n",
    "        cache_weather.add(x['description'])\n",
    "# print(cache_weather)\n",
    "# print(len(cache_weather))\n",
    "weather_list = list(cache_weather)\n",
    "# print(weather_list)\n",
    "\n",
    "\n",
    "def get_weather(x):\n",
    "    if x['description'] in {'light intensity drizzle rain', 'very heavy rain', 'moderate rain', 'drizzle', 'thunderstorm with heavy rain', 'heavy intensity rain', 'mist', 'overcast clouds', 'light intensity drizzle', 'thunderstorm with light rain', 'thunderstorm', 'thunderstorm with rain', 'light rain'}:\n",
    "        x['rain'] = 2\n",
    "    else:\n",
    "        x['rain'] = 1\n",
    "    return x\n",
    "\n",
    "cache_station = set()\n",
    "for x, y in dataset:\n",
    "    if x['station'] not in cache_station:\n",
    "        cache_station.add(x['station'])\n",
    "# print(cache_station)\n",
    "# print(len(cache_station))\n",
    "station_list = list(cache_station)\n",
    "# print(station_list)\n",
    "\n",
    "def get_station(x):\n",
    "    for station in station_list:\n",
    "        if x['station'] == station:\n",
    "            x[station] = 1\n",
    "        else:\n",
    "            x[station] = 0\n",
    "    return x\n",
    "\n",
    "def add_feature(x):\n",
    "    get_weather(x)\n",
    "    get_station(x)\n",
    "    return x\n",
    "\n",
    "models = [linear_model.LinearRegression(optimizer=optim.SGD(lr=lr)) for lr in [0.0001, 0.001, 1e-05, 0.01]]\n",
    "metric = metrics.MAE()\n",
    "\n",
    "model = add_feature\n",
    "model |= compose.Discard('station', 'description', 'moment')\n",
    "model += (\n",
    "    get_hour |\n",
    "    feature_extraction.TargetAgg(by=['station', 'hour'], how=stats.Mean())\n",
    ")\n",
    "model |= feature_extraction.PolynomialExtender(interaction_only=True)\n",
    "model |= preprocessing.StandardScaler()\n",
    "model |= facto.FwFMRegressor(n_factors=10, intercept=5, seed=42)\n",
    "\n",
    "metric = metrics.MSE()\n",
    "\n",
    "evaluate.progressive_val_score(dataset, model, metric, print_every=20_000)"
   ]
  },
  {
   "cell_type": "code",
   "execution_count": null,
   "metadata": {},
   "outputs": [],
   "source": []
  },
  {
   "cell_type": "code",
   "execution_count": null,
   "metadata": {},
   "outputs": [],
   "source": []
  }
 ],
 "metadata": {
  "kernelspec": {
   "display_name": "Python 3",
   "language": "python",
   "name": "python3"
  },
  "language_info": {
   "codemirror_mode": {
    "name": "ipython",
    "version": 3
   },
   "file_extension": ".py",
   "mimetype": "text/x-python",
   "name": "python",
   "nbconvert_exporter": "python",
   "pygments_lexer": "ipython3",
   "version": "3.8.5"
  }
 },
 "nbformat": 4,
 "nbformat_minor": 4
}
